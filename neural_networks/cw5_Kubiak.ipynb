{
  "cells": [
    {
      "cell_type": "markdown",
      "source": [
        "# Zadanie 5\n",
        "\n",
        "\n",
        "Celem ćwiczenia jest implementacja perceptronu wielowarstwowego oraz wybranego algorytmu optymalizacji gradientowej z algorytmem propagacji wstecznej.\n",
        "\n",
        "Następnie należy wytrenować perceptron wielowarstwowy do klasyfikacji zbioru danych [MNIST](http://yann.lecun.com/exdb/mnist/). Zbiór MNIST dostępny jest w pakiecie `scikit-learn`.\n",
        "\n",
        "Punktacja:\n",
        "1. Implementacja propagacji do przodu (`forward`) [1 pkt]\n",
        "2. Implementacja wstecznej propagacji (zademonstrowana na bramce XOR) (`backward`) [2 pkt]\n",
        "3. Przeprowadzenie eksperymentów na zbiorze MNIST, w tym:\n",
        "    1. Porównanie co najmniej dwóch architektur sieci [1 pkt]\n",
        "    2. Przetestowanie każdej architektury na conajmniej 3 ziarnach [1 pkt]\n",
        "    3. Wnioski 1.[5 pkt]\n",
        "4. Jakość kodu 0.[5 pkt]\n",
        "\n",
        "Polecane źródła - teoria + intuicja:\n",
        "1. [Karpathy, CS231n Winter 2016: Lecture 4: Backpropagation, Neural Networks 1](https://www.youtube.com/watch?v=i94OvYb6noo&ab_channel=AndrejKarpathy)\n",
        "2. [3 Blude one Brown, Backpropagation calculus | Chapter 4, Deep learning\n",
        "](https://www.youtube.com/watch?v=tIeHLnjs5U8&t=4s&ab_channel=3Blue1Brown)\n"
      ],
      "metadata": {
        "collapsed": false,
        "id": "RI_HNt9mOLq4"
      }
    },
    {
      "cell_type": "code",
      "execution_count": 168,
      "outputs": [],
      "source": [
        "from abc import abstractmethod, ABC\n",
        "from typing import List\n",
        "import numpy as np\n",
        "from keras.utils import to_categorical\n",
        "from keras.datasets import mnist\n",
        "import matplotlib.pyplot as plt\n",
        "\n"
      ],
      "metadata": {
        "id": "t3ctpkaBOLq8"
      }
    },
    {
      "cell_type": "code",
      "execution_count": 169,
      "outputs": [],
      "source": [
        "class Layer(ABC):\n",
        "    \"\"\"Basic building block of the Neural Network\"\"\"\n",
        "\n",
        "    def __init__(self) -> None:\n",
        "        self._learning_rate = 0.1\n",
        "\n",
        "    @abstractmethod\n",
        "    def forward(self, x:np.ndarray)->np.ndarray:\n",
        "        \"\"\"Forward propagation of x through layer\"\"\"\n",
        "        raise NotImplementedError\n",
        "\n",
        "    @abstractmethod\n",
        "    def backward(self, output_error_derivative) ->np.ndarray:\n",
        "        \"\"\"Backward propagation of output_error_derivative through layer\"\"\"\n",
        "        raise NotImplementedError\n",
        "\n",
        "    @property\n",
        "    def learning_rate(self):\n",
        "        return self._learning_rate\n",
        "\n",
        "    @learning_rate.setter\n",
        "    def learning_rate(self, learning_rate):\n",
        "        assert learning_rate < 1, f\"Given learning_rate={learning_rate} is larger than 1\"\n",
        "        assert learning_rate > 0, f\"Given learning_rate={learning_rate} is smaller than 0\"\n",
        "        self._learning_rate = learning_rate\n",
        "\n",
        "class FullyConnected(Layer):\n",
        "    def __init__(self, input_size:int, output_size:int) -> None:\n",
        "        super().__init__()\n",
        "        self.input_size = input_size\n",
        "        self.output_size = output_size\n",
        "        self.weights = np.random.rand(self.input_size, self.output_size) - 0.5\n",
        "        self.bias = np.random.rand(1, output_size) - 0.5\n",
        "\n",
        "    def forward(self, x:np.ndarray)->np.ndarray:\n",
        "        self.input = x\n",
        "        self.output = np.dot(self.input, self.weights) + self.bias\n",
        "        return self.output\n",
        "\n",
        "    def backward(self, output_error_derivative, learning_rate)->np.ndarray:\n",
        "        self.learning_rate = learning_rate\n",
        "        input_error = np.dot(output_error_derivative, self.weights.T)\n",
        "        weights_error = np.dot(self.input.T, output_error_derivative)\n",
        "        self.weights -= self.learning_rate * weights_error\n",
        "        self.bias -= self.learning_rate * output_error_derivative\n",
        "        return input_error\n",
        "\n",
        "class Tanh(Layer):\n",
        "    def __init__(self) -> None:\n",
        "        super().__init__()\n",
        "\n",
        "    def forward(self, x:np.ndarray)->np.ndarray:\n",
        "        self.input = x\n",
        "        output = np.tanh(self.input)\n",
        "        return output\n",
        "\n",
        "    def backward(self, output_error_derivative, learning_rate)->np.ndarray:\n",
        "        return output_error_derivative*(1-np.tanh(self.input)**2)\n",
        "\n",
        "class Loss:\n",
        "    def __init__(self, loss_function:callable, loss_function_derivative:callable)->None:\n",
        "        self.loss_function = loss_function\n",
        "        self.loss_function_derivative = loss_function_derivative\n",
        "\n",
        "    def loss(self, y_true:np.ndarray, y_pred:np.ndarray)->np.ndarray:\n",
        "        \"\"\"Loss function for a particular x\"\"\"\n",
        "        return self.loss_function(y_true, y_pred)\n",
        "\n",
        "    def loss_derivative(self, y_true:np.ndarray, y_pred:np.ndarray)->np.ndarray:\n",
        "        \"\"\"Loss function derivative for a particular x and y\"\"\"\n",
        "        return self.loss_function_derivative(y_true, y_pred)\n",
        "\n",
        "class Network:\n",
        "    def __init__(self, layers:List[Layer], learning_rate:float)->None:\n",
        "        self.layers = layers\n",
        "        self.learning_rate = learning_rate\n",
        "        self.loss = None\n",
        "\n",
        "    def compile(self, loss:Loss)->None:\n",
        "        \"\"\"Define the loss function and loss function derivative\"\"\"\n",
        "        self.loss = Loss\n",
        "\n",
        "    def __call__(self, x:np.ndarray) -> np.ndarray:\n",
        "        \"\"\"Forward propagation of x through all layers\"\"\"\n",
        "        results = []\n",
        "        for data in x:\n",
        "          output = data\n",
        "          for layer in self.layers:\n",
        "            output = layer.forward(output)\n",
        "          results.append(output)\n",
        "        return results\n",
        "\n",
        "    def fit(self,\n",
        "            x_train:np.ndarray,\n",
        "            y_train:np.ndarray,\n",
        "            epochs:int,\n",
        "            learning_rate:float,\n",
        "            verbose:int=0)->None:\n",
        "        \"\"\"Fit the network to the training data\"\"\"\n",
        "        num_of_samples = len(x_train)\n",
        "\n",
        "        for epoch in range(epochs):\n",
        "            err = 0\n",
        "            for i in range(num_of_samples):\n",
        "\n",
        "                #forward propagation\n",
        "                output = x_train[i]\n",
        "                for layer in self.layers:\n",
        "                    output = layer.forward(output)\n",
        "                err += calculate_error(y_train[i], output)\n",
        "\n",
        "                #backward propagation\n",
        "                error = calculate_error_derivative(y_train[i], output)\n",
        "                for layer in reversed(self.layers):\n",
        "                    error = layer.backward(error, learning_rate)\n",
        "            err = err / num_of_samples\n",
        "            print('epoch %d/%d   error=%f' % (epoch+1, epochs, err))\n",
        "    \n",
        "def calculate_error(y_true, y_pred):\n",
        "        return np.mean(np.power(y_true-y_pred, 2))\n",
        "        \n",
        "def calculate_error_derivative(y_true, y_pred):\n",
        "        return 2*(y_pred-y_true)/y_true.size\n",
        "        \n",
        "\n",
        "\n",
        "\n"
      ],
      "metadata": {
        "id": "duL9y7XcOLq-"
      }
    },
    {
      "cell_type": "markdown",
      "source": [
        "# Bramka XOR"
      ],
      "metadata": {
        "id": "TAD29Grw3mX4"
      }
    },
    {
      "cell_type": "code",
      "source": [
        "X_train = np.array([[[0,0]], [[0,1]], [[1,0]], [[1,1]]])\n",
        "Y_train = np.array([[[0]], [[1]], [[1]], [[0]]])\n",
        "layers = []\n",
        "layers.append(FullyConnected(2,3))\n",
        "layers.append(Tanh())\n",
        "layers.append(FullyConnected(3,1))\n",
        "layers.append(Tanh())\n",
        "network = Network(layers, 0.1)\n",
        "print(\"Niewytrenowana sieć\")\n",
        "print(network(X_train))\n",
        "print(\"Trenowanie sieci\")\n",
        "network.fit(X_train, Y_train, 500, 0.1)\n",
        "print(\"Wytrenowana sieć\")\n",
        "print(network(X_train))"
      ],
      "metadata": {
        "colab": {
          "base_uri": "https://localhost:8080/"
        },
        "id": "6NeZ91TCbm3D",
        "outputId": "c35d6742-20e7-4d08-a1f6-1337f3688523"
      },
      "execution_count": 170,
      "outputs": [
        {
          "output_type": "stream",
          "name": "stdout",
          "text": [
            "Niewytrenowana sieć\n",
            "[array([[-0.1465311]]), array([[-0.09460689]]), array([[-0.04513221]]), array([[0.0060104]])]\n",
            "Trenowanie sieci\n",
            "epoch 1/500   error=0.488634\n",
            "epoch 2/500   error=0.326801\n",
            "epoch 3/500   error=0.305130\n",
            "epoch 4/500   error=0.299961\n",
            "epoch 5/500   error=0.298001\n",
            "epoch 6/500   error=0.296937\n",
            "epoch 7/500   error=0.296195\n",
            "epoch 8/500   error=0.295589\n",
            "epoch 9/500   error=0.295049\n",
            "epoch 10/500   error=0.294540\n",
            "epoch 11/500   error=0.294046\n",
            "epoch 12/500   error=0.293558\n",
            "epoch 13/500   error=0.293068\n",
            "epoch 14/500   error=0.292573\n",
            "epoch 15/500   error=0.292068\n",
            "epoch 16/500   error=0.291552\n",
            "epoch 17/500   error=0.291021\n",
            "epoch 18/500   error=0.290472\n",
            "epoch 19/500   error=0.289905\n",
            "epoch 20/500   error=0.289316\n",
            "epoch 21/500   error=0.288704\n",
            "epoch 22/500   error=0.288067\n",
            "epoch 23/500   error=0.287404\n",
            "epoch 24/500   error=0.286712\n",
            "epoch 25/500   error=0.285990\n",
            "epoch 26/500   error=0.285236\n",
            "epoch 27/500   error=0.284449\n",
            "epoch 28/500   error=0.283627\n",
            "epoch 29/500   error=0.282769\n",
            "epoch 30/500   error=0.281875\n",
            "epoch 31/500   error=0.280941\n",
            "epoch 32/500   error=0.279969\n",
            "epoch 33/500   error=0.278956\n",
            "epoch 34/500   error=0.277902\n",
            "epoch 35/500   error=0.276806\n",
            "epoch 36/500   error=0.275669\n",
            "epoch 37/500   error=0.274488\n",
            "epoch 38/500   error=0.273265\n",
            "epoch 39/500   error=0.272000\n",
            "epoch 40/500   error=0.270692\n",
            "epoch 41/500   error=0.269343\n",
            "epoch 42/500   error=0.267954\n",
            "epoch 43/500   error=0.266524\n",
            "epoch 44/500   error=0.265057\n",
            "epoch 45/500   error=0.263553\n",
            "epoch 46/500   error=0.262015\n",
            "epoch 47/500   error=0.260445\n",
            "epoch 48/500   error=0.258846\n",
            "epoch 49/500   error=0.257222\n",
            "epoch 50/500   error=0.255575\n",
            "epoch 51/500   error=0.253909\n",
            "epoch 52/500   error=0.252229\n",
            "epoch 53/500   error=0.250539\n",
            "epoch 54/500   error=0.248844\n",
            "epoch 55/500   error=0.247149\n",
            "epoch 56/500   error=0.245458\n",
            "epoch 57/500   error=0.243776\n",
            "epoch 58/500   error=0.242109\n",
            "epoch 59/500   error=0.240461\n",
            "epoch 60/500   error=0.238837\n",
            "epoch 61/500   error=0.237240\n",
            "epoch 62/500   error=0.235676\n",
            "epoch 63/500   error=0.234148\n",
            "epoch 64/500   error=0.232658\n",
            "epoch 65/500   error=0.231210\n",
            "epoch 66/500   error=0.229806\n",
            "epoch 67/500   error=0.228447\n",
            "epoch 68/500   error=0.227134\n",
            "epoch 69/500   error=0.225869\n",
            "epoch 70/500   error=0.224651\n",
            "epoch 71/500   error=0.223479\n",
            "epoch 72/500   error=0.222355\n",
            "epoch 73/500   error=0.221276\n",
            "epoch 74/500   error=0.220241\n",
            "epoch 75/500   error=0.219250\n",
            "epoch 76/500   error=0.218300\n",
            "epoch 77/500   error=0.217390\n",
            "epoch 78/500   error=0.216518\n",
            "epoch 79/500   error=0.215682\n",
            "epoch 80/500   error=0.214880\n",
            "epoch 81/500   error=0.214110\n",
            "epoch 82/500   error=0.213371\n",
            "epoch 83/500   error=0.212661\n",
            "epoch 84/500   error=0.211976\n",
            "epoch 85/500   error=0.211317\n",
            "epoch 86/500   error=0.210681\n",
            "epoch 87/500   error=0.210066\n",
            "epoch 88/500   error=0.209471\n",
            "epoch 89/500   error=0.208894\n",
            "epoch 90/500   error=0.208333\n",
            "epoch 91/500   error=0.207788\n",
            "epoch 92/500   error=0.207256\n",
            "epoch 93/500   error=0.206736\n",
            "epoch 94/500   error=0.206228\n",
            "epoch 95/500   error=0.205729\n",
            "epoch 96/500   error=0.205238\n",
            "epoch 97/500   error=0.204754\n",
            "epoch 98/500   error=0.204276\n",
            "epoch 99/500   error=0.203803\n",
            "epoch 100/500   error=0.203333\n",
            "epoch 101/500   error=0.202865\n",
            "epoch 102/500   error=0.202398\n",
            "epoch 103/500   error=0.201931\n",
            "epoch 104/500   error=0.201463\n",
            "epoch 105/500   error=0.200992\n",
            "epoch 106/500   error=0.200517\n",
            "epoch 107/500   error=0.200036\n",
            "epoch 108/500   error=0.199550\n",
            "epoch 109/500   error=0.199056\n",
            "epoch 110/500   error=0.198553\n",
            "epoch 111/500   error=0.198039\n",
            "epoch 112/500   error=0.197514\n",
            "epoch 113/500   error=0.196976\n",
            "epoch 114/500   error=0.196424\n",
            "epoch 115/500   error=0.195855\n",
            "epoch 116/500   error=0.195270\n",
            "epoch 117/500   error=0.194666\n",
            "epoch 118/500   error=0.194041\n",
            "epoch 119/500   error=0.193396\n",
            "epoch 120/500   error=0.192727\n",
            "epoch 121/500   error=0.192033\n",
            "epoch 122/500   error=0.191313\n",
            "epoch 123/500   error=0.190567\n",
            "epoch 124/500   error=0.189791\n",
            "epoch 125/500   error=0.188985\n",
            "epoch 126/500   error=0.188147\n",
            "epoch 127/500   error=0.187277\n",
            "epoch 128/500   error=0.186372\n",
            "epoch 129/500   error=0.185432\n",
            "epoch 130/500   error=0.184455\n",
            "epoch 131/500   error=0.183440\n",
            "epoch 132/500   error=0.182385\n",
            "epoch 133/500   error=0.181289\n",
            "epoch 134/500   error=0.180151\n",
            "epoch 135/500   error=0.178969\n",
            "epoch 136/500   error=0.177742\n",
            "epoch 137/500   error=0.176468\n",
            "epoch 138/500   error=0.175145\n",
            "epoch 139/500   error=0.173772\n",
            "epoch 140/500   error=0.172345\n",
            "epoch 141/500   error=0.170864\n",
            "epoch 142/500   error=0.169325\n",
            "epoch 143/500   error=0.167726\n",
            "epoch 144/500   error=0.166065\n",
            "epoch 145/500   error=0.164338\n",
            "epoch 146/500   error=0.162544\n",
            "epoch 147/500   error=0.160678\n",
            "epoch 148/500   error=0.158738\n",
            "epoch 149/500   error=0.156721\n",
            "epoch 150/500   error=0.154624\n",
            "epoch 151/500   error=0.152444\n",
            "epoch 152/500   error=0.150178\n",
            "epoch 153/500   error=0.147823\n",
            "epoch 154/500   error=0.145378\n",
            "epoch 155/500   error=0.142839\n",
            "epoch 156/500   error=0.140206\n",
            "epoch 157/500   error=0.137476\n",
            "epoch 158/500   error=0.134649\n",
            "epoch 159/500   error=0.131726\n",
            "epoch 160/500   error=0.128706\n",
            "epoch 161/500   error=0.125592\n",
            "epoch 162/500   error=0.122385\n",
            "epoch 163/500   error=0.119089\n",
            "epoch 164/500   error=0.115710\n",
            "epoch 165/500   error=0.112253\n",
            "epoch 166/500   error=0.108725\n",
            "epoch 167/500   error=0.105134\n",
            "epoch 168/500   error=0.101492\n",
            "epoch 169/500   error=0.097809\n",
            "epoch 170/500   error=0.094098\n",
            "epoch 171/500   error=0.090373\n",
            "epoch 172/500   error=0.086648\n",
            "epoch 173/500   error=0.082939\n",
            "epoch 174/500   error=0.079262\n",
            "epoch 175/500   error=0.075633\n",
            "epoch 176/500   error=0.072067\n",
            "epoch 177/500   error=0.068579\n",
            "epoch 178/500   error=0.065184\n",
            "epoch 179/500   error=0.061893\n",
            "epoch 180/500   error=0.058717\n",
            "epoch 181/500   error=0.055666\n",
            "epoch 182/500   error=0.052746\n",
            "epoch 183/500   error=0.049961\n",
            "epoch 184/500   error=0.047315\n",
            "epoch 185/500   error=0.044809\n",
            "epoch 186/500   error=0.042441\n",
            "epoch 187/500   error=0.040209\n",
            "epoch 188/500   error=0.038110\n",
            "epoch 189/500   error=0.036140\n",
            "epoch 190/500   error=0.034292\n",
            "epoch 191/500   error=0.032561\n",
            "epoch 192/500   error=0.030942\n",
            "epoch 193/500   error=0.029427\n",
            "epoch 194/500   error=0.028010\n",
            "epoch 195/500   error=0.026686\n",
            "epoch 196/500   error=0.025447\n",
            "epoch 197/500   error=0.024289\n",
            "epoch 198/500   error=0.023205\n",
            "epoch 199/500   error=0.022191\n",
            "epoch 200/500   error=0.021240\n",
            "epoch 201/500   error=0.020350\n",
            "epoch 202/500   error=0.019515\n",
            "epoch 203/500   error=0.018731\n",
            "epoch 204/500   error=0.017994\n",
            "epoch 205/500   error=0.017302\n",
            "epoch 206/500   error=0.016650\n",
            "epoch 207/500   error=0.016036\n",
            "epoch 208/500   error=0.015457\n",
            "epoch 209/500   error=0.014911\n",
            "epoch 210/500   error=0.014395\n",
            "epoch 211/500   error=0.013908\n",
            "epoch 212/500   error=0.013446\n",
            "epoch 213/500   error=0.013009\n",
            "epoch 214/500   error=0.012595\n",
            "epoch 215/500   error=0.012202\n",
            "epoch 216/500   error=0.011829\n",
            "epoch 217/500   error=0.011475\n",
            "epoch 218/500   error=0.011137\n",
            "epoch 219/500   error=0.010816\n",
            "epoch 220/500   error=0.010510\n",
            "epoch 221/500   error=0.010218\n",
            "epoch 222/500   error=0.009940\n",
            "epoch 223/500   error=0.009674\n",
            "epoch 224/500   error=0.009420\n",
            "epoch 225/500   error=0.009177\n",
            "epoch 226/500   error=0.008945\n",
            "epoch 227/500   error=0.008722\n",
            "epoch 228/500   error=0.008509\n",
            "epoch 229/500   error=0.008304\n",
            "epoch 230/500   error=0.008108\n",
            "epoch 231/500   error=0.007920\n",
            "epoch 232/500   error=0.007739\n",
            "epoch 233/500   error=0.007564\n",
            "epoch 234/500   error=0.007397\n",
            "epoch 235/500   error=0.007236\n",
            "epoch 236/500   error=0.007081\n",
            "epoch 237/500   error=0.006931\n",
            "epoch 238/500   error=0.006787\n",
            "epoch 239/500   error=0.006648\n",
            "epoch 240/500   error=0.006514\n",
            "epoch 241/500   error=0.006385\n",
            "epoch 242/500   error=0.006260\n",
            "epoch 243/500   error=0.006139\n",
            "epoch 244/500   error=0.006022\n",
            "epoch 245/500   error=0.005909\n",
            "epoch 246/500   error=0.005800\n",
            "epoch 247/500   error=0.005694\n",
            "epoch 248/500   error=0.005592\n",
            "epoch 249/500   error=0.005492\n",
            "epoch 250/500   error=0.005396\n",
            "epoch 251/500   error=0.005303\n",
            "epoch 252/500   error=0.005212\n",
            "epoch 253/500   error=0.005124\n",
            "epoch 254/500   error=0.005039\n",
            "epoch 255/500   error=0.004956\n",
            "epoch 256/500   error=0.004876\n",
            "epoch 257/500   error=0.004798\n",
            "epoch 258/500   error=0.004722\n",
            "epoch 259/500   error=0.004648\n",
            "epoch 260/500   error=0.004576\n",
            "epoch 261/500   error=0.004507\n",
            "epoch 262/500   error=0.004439\n",
            "epoch 263/500   error=0.004372\n",
            "epoch 264/500   error=0.004308\n",
            "epoch 265/500   error=0.004245\n",
            "epoch 266/500   error=0.004184\n",
            "epoch 267/500   error=0.004124\n",
            "epoch 268/500   error=0.004066\n",
            "epoch 269/500   error=0.004010\n",
            "epoch 270/500   error=0.003954\n",
            "epoch 271/500   error=0.003900\n",
            "epoch 272/500   error=0.003848\n",
            "epoch 273/500   error=0.003796\n",
            "epoch 274/500   error=0.003746\n",
            "epoch 275/500   error=0.003697\n",
            "epoch 276/500   error=0.003649\n",
            "epoch 277/500   error=0.003602\n",
            "epoch 278/500   error=0.003557\n",
            "epoch 279/500   error=0.003512\n",
            "epoch 280/500   error=0.003468\n",
            "epoch 281/500   error=0.003426\n",
            "epoch 282/500   error=0.003384\n",
            "epoch 283/500   error=0.003343\n",
            "epoch 284/500   error=0.003303\n",
            "epoch 285/500   error=0.003264\n",
            "epoch 286/500   error=0.003226\n",
            "epoch 287/500   error=0.003188\n",
            "epoch 288/500   error=0.003151\n",
            "epoch 289/500   error=0.003115\n",
            "epoch 290/500   error=0.003080\n",
            "epoch 291/500   error=0.003045\n",
            "epoch 292/500   error=0.003012\n",
            "epoch 293/500   error=0.002978\n",
            "epoch 294/500   error=0.002946\n",
            "epoch 295/500   error=0.002914\n",
            "epoch 296/500   error=0.002883\n",
            "epoch 297/500   error=0.002852\n",
            "epoch 298/500   error=0.002822\n",
            "epoch 299/500   error=0.002792\n",
            "epoch 300/500   error=0.002763\n",
            "epoch 301/500   error=0.002735\n",
            "epoch 302/500   error=0.002707\n",
            "epoch 303/500   error=0.002680\n",
            "epoch 304/500   error=0.002653\n",
            "epoch 305/500   error=0.002626\n",
            "epoch 306/500   error=0.002600\n",
            "epoch 307/500   error=0.002575\n",
            "epoch 308/500   error=0.002550\n",
            "epoch 309/500   error=0.002525\n",
            "epoch 310/500   error=0.002501\n",
            "epoch 311/500   error=0.002477\n",
            "epoch 312/500   error=0.002454\n",
            "epoch 313/500   error=0.002431\n",
            "epoch 314/500   error=0.002409\n",
            "epoch 315/500   error=0.002386\n",
            "epoch 316/500   error=0.002365\n",
            "epoch 317/500   error=0.002343\n",
            "epoch 318/500   error=0.002322\n",
            "epoch 319/500   error=0.002301\n",
            "epoch 320/500   error=0.002281\n",
            "epoch 321/500   error=0.002261\n",
            "epoch 322/500   error=0.002241\n",
            "epoch 323/500   error=0.002221\n",
            "epoch 324/500   error=0.002202\n",
            "epoch 325/500   error=0.002183\n",
            "epoch 326/500   error=0.002165\n",
            "epoch 327/500   error=0.002146\n",
            "epoch 328/500   error=0.002128\n",
            "epoch 329/500   error=0.002111\n",
            "epoch 330/500   error=0.002093\n",
            "epoch 331/500   error=0.002076\n",
            "epoch 332/500   error=0.002059\n",
            "epoch 333/500   error=0.002042\n",
            "epoch 334/500   error=0.002026\n",
            "epoch 335/500   error=0.002010\n",
            "epoch 336/500   error=0.001994\n",
            "epoch 337/500   error=0.001978\n",
            "epoch 338/500   error=0.001962\n",
            "epoch 339/500   error=0.001947\n",
            "epoch 340/500   error=0.001932\n",
            "epoch 341/500   error=0.001917\n",
            "epoch 342/500   error=0.001902\n",
            "epoch 343/500   error=0.001888\n",
            "epoch 344/500   error=0.001874\n",
            "epoch 345/500   error=0.001860\n",
            "epoch 346/500   error=0.001846\n",
            "epoch 347/500   error=0.001832\n",
            "epoch 348/500   error=0.001819\n",
            "epoch 349/500   error=0.001805\n",
            "epoch 350/500   error=0.001792\n",
            "epoch 351/500   error=0.001779\n",
            "epoch 352/500   error=0.001766\n",
            "epoch 353/500   error=0.001754\n",
            "epoch 354/500   error=0.001741\n",
            "epoch 355/500   error=0.001729\n",
            "epoch 356/500   error=0.001717\n",
            "epoch 357/500   error=0.001705\n",
            "epoch 358/500   error=0.001693\n",
            "epoch 359/500   error=0.001681\n",
            "epoch 360/500   error=0.001670\n",
            "epoch 361/500   error=0.001658\n",
            "epoch 362/500   error=0.001647\n",
            "epoch 363/500   error=0.001636\n",
            "epoch 364/500   error=0.001625\n",
            "epoch 365/500   error=0.001614\n",
            "epoch 366/500   error=0.001603\n",
            "epoch 367/500   error=0.001593\n",
            "epoch 368/500   error=0.001582\n",
            "epoch 369/500   error=0.001572\n",
            "epoch 370/500   error=0.001562\n",
            "epoch 371/500   error=0.001551\n",
            "epoch 372/500   error=0.001541\n",
            "epoch 373/500   error=0.001532\n",
            "epoch 374/500   error=0.001522\n",
            "epoch 375/500   error=0.001512\n",
            "epoch 376/500   error=0.001503\n",
            "epoch 377/500   error=0.001493\n",
            "epoch 378/500   error=0.001484\n",
            "epoch 379/500   error=0.001475\n",
            "epoch 380/500   error=0.001466\n",
            "epoch 381/500   error=0.001457\n",
            "epoch 382/500   error=0.001448\n",
            "epoch 383/500   error=0.001439\n",
            "epoch 384/500   error=0.001430\n",
            "epoch 385/500   error=0.001422\n",
            "epoch 386/500   error=0.001413\n",
            "epoch 387/500   error=0.001405\n",
            "epoch 388/500   error=0.001397\n",
            "epoch 389/500   error=0.001388\n",
            "epoch 390/500   error=0.001380\n",
            "epoch 391/500   error=0.001372\n",
            "epoch 392/500   error=0.001364\n",
            "epoch 393/500   error=0.001356\n",
            "epoch 394/500   error=0.001348\n",
            "epoch 395/500   error=0.001341\n",
            "epoch 396/500   error=0.001333\n",
            "epoch 397/500   error=0.001326\n",
            "epoch 398/500   error=0.001318\n",
            "epoch 399/500   error=0.001311\n",
            "epoch 400/500   error=0.001303\n",
            "epoch 401/500   error=0.001296\n",
            "epoch 402/500   error=0.001289\n",
            "epoch 403/500   error=0.001282\n",
            "epoch 404/500   error=0.001275\n",
            "epoch 405/500   error=0.001268\n",
            "epoch 406/500   error=0.001261\n",
            "epoch 407/500   error=0.001254\n",
            "epoch 408/500   error=0.001247\n",
            "epoch 409/500   error=0.001241\n",
            "epoch 410/500   error=0.001234\n",
            "epoch 411/500   error=0.001227\n",
            "epoch 412/500   error=0.001221\n",
            "epoch 413/500   error=0.001214\n",
            "epoch 414/500   error=0.001208\n",
            "epoch 415/500   error=0.001202\n",
            "epoch 416/500   error=0.001196\n",
            "epoch 417/500   error=0.001189\n",
            "epoch 418/500   error=0.001183\n",
            "epoch 419/500   error=0.001177\n",
            "epoch 420/500   error=0.001171\n",
            "epoch 421/500   error=0.001165\n",
            "epoch 422/500   error=0.001159\n",
            "epoch 423/500   error=0.001153\n",
            "epoch 424/500   error=0.001148\n",
            "epoch 425/500   error=0.001142\n",
            "epoch 426/500   error=0.001136\n",
            "epoch 427/500   error=0.001131\n",
            "epoch 428/500   error=0.001125\n",
            "epoch 429/500   error=0.001119\n",
            "epoch 430/500   error=0.001114\n",
            "epoch 431/500   error=0.001109\n",
            "epoch 432/500   error=0.001103\n",
            "epoch 433/500   error=0.001098\n",
            "epoch 434/500   error=0.001093\n",
            "epoch 435/500   error=0.001087\n",
            "epoch 436/500   error=0.001082\n",
            "epoch 437/500   error=0.001077\n",
            "epoch 438/500   error=0.001072\n",
            "epoch 439/500   error=0.001067\n",
            "epoch 440/500   error=0.001062\n",
            "epoch 441/500   error=0.001057\n",
            "epoch 442/500   error=0.001052\n",
            "epoch 443/500   error=0.001047\n",
            "epoch 444/500   error=0.001042\n",
            "epoch 445/500   error=0.001037\n",
            "epoch 446/500   error=0.001033\n",
            "epoch 447/500   error=0.001028\n",
            "epoch 448/500   error=0.001023\n",
            "epoch 449/500   error=0.001018\n",
            "epoch 450/500   error=0.001014\n",
            "epoch 451/500   error=0.001009\n",
            "epoch 452/500   error=0.001005\n",
            "epoch 453/500   error=0.001000\n",
            "epoch 454/500   error=0.000996\n",
            "epoch 455/500   error=0.000991\n",
            "epoch 456/500   error=0.000987\n",
            "epoch 457/500   error=0.000983\n",
            "epoch 458/500   error=0.000978\n",
            "epoch 459/500   error=0.000974\n",
            "epoch 460/500   error=0.000970\n",
            "epoch 461/500   error=0.000966\n",
            "epoch 462/500   error=0.000961\n",
            "epoch 463/500   error=0.000957\n",
            "epoch 464/500   error=0.000953\n",
            "epoch 465/500   error=0.000949\n",
            "epoch 466/500   error=0.000945\n",
            "epoch 467/500   error=0.000941\n",
            "epoch 468/500   error=0.000937\n",
            "epoch 469/500   error=0.000933\n",
            "epoch 470/500   error=0.000929\n",
            "epoch 471/500   error=0.000925\n",
            "epoch 472/500   error=0.000921\n",
            "epoch 473/500   error=0.000918\n",
            "epoch 474/500   error=0.000914\n",
            "epoch 475/500   error=0.000910\n",
            "epoch 476/500   error=0.000906\n",
            "epoch 477/500   error=0.000903\n",
            "epoch 478/500   error=0.000899\n",
            "epoch 479/500   error=0.000895\n",
            "epoch 480/500   error=0.000892\n",
            "epoch 481/500   error=0.000888\n",
            "epoch 482/500   error=0.000884\n",
            "epoch 483/500   error=0.000881\n",
            "epoch 484/500   error=0.000877\n",
            "epoch 485/500   error=0.000874\n",
            "epoch 486/500   error=0.000870\n",
            "epoch 487/500   error=0.000867\n",
            "epoch 488/500   error=0.000864\n",
            "epoch 489/500   error=0.000860\n",
            "epoch 490/500   error=0.000857\n",
            "epoch 491/500   error=0.000853\n",
            "epoch 492/500   error=0.000850\n",
            "epoch 493/500   error=0.000847\n",
            "epoch 494/500   error=0.000843\n",
            "epoch 495/500   error=0.000840\n",
            "epoch 496/500   error=0.000837\n",
            "epoch 497/500   error=0.000834\n",
            "epoch 498/500   error=0.000831\n",
            "epoch 499/500   error=0.000827\n",
            "epoch 500/500   error=0.000824\n",
            "Wytrenowana sieć\n",
            "[array([[0.00286475]]), array([[0.96051488]]), array([[0.95881186]]), array([[-0.00427785]])]\n"
          ]
        }
      ]
    },
    {
      "cell_type": "markdown",
      "source": [
        "Jak widać sieć bardzo dobrze działa dla przykładu bramki XOR. Do wytrenowania sieci wystarczyło zaledwie 500 epok."
      ],
      "metadata": {
        "id": "QmeJPCo4BEor"
      }
    },
    {
      "cell_type": "markdown",
      "source": [
        "# Eksperymenty MNIST\n",
        "W doświadczeniam do trenowania używam pierwszego 1000 próbek (cały zestaw zawiera 60 000 cyfr - gdybym chciała przetrenować model dla ich wszystkich, musiałabym podzielić dane na pakiety (minibatch) i zastosować gradient stochastycznego spadku, co jest trudniejsze i bardziej pracochłonne w implementacji). Wyniki przedstawiam dla pierwszych dziesięciu cyfr ze zbioru testowego. Aby zwiększyć wiarygodność doświadczeń, program uruchamiam pięć razy dla każdego z modeli o liczbie warstw ukrytych od zera do trzech. Dla każdego modelu badam jakość klasyfikacji w zależności od współczynnika learning_rate o wartościach [0.01, 0.1, 0.25, 0.5]. Wszystkie doświadczenia przeprowadzam dla 20 epok."
      ],
      "metadata": {
        "id": "p0jhWRaY3ghj"
      }
    },
    {
      "cell_type": "code",
      "source": [
        "def main(num_of_hidden, epochs, learning_rate):\n",
        "    (X_train, Y_train), (X_test, Y_test) = mnist.load_data()\n",
        "\n",
        "    # Convert y_train into one-hot format\n",
        "    temp = []\n",
        "    for i in range(len(Y_train)):\n",
        "        temp.append(to_categorical(Y_train[i], num_classes=10))\n",
        "    Y_train = np.array(temp)\n",
        "\n",
        "    # Convert y_test into one-hot format\n",
        "    temp = []\n",
        "    for i in range(len(Y_test)):    \n",
        "        temp.append(to_categorical(Y_test[i], num_classes=10))\n",
        "    Y_test = np.array(temp)\n",
        "\n",
        "    # Convert image into a vector\n",
        "    image_vector_size = 28*28\n",
        "    X_train = X_train.astype('float32')\n",
        "    X_train = X_train / 255.0\n",
        "    X_train = X_train.reshape(X_train.shape[0], 1, image_vector_size)\n",
        "    X_test = X_test.astype('float32')\n",
        "    X_test = X_test / 255.0\n",
        "    X_test = X_test.reshape(X_test.shape[0], 1, image_vector_size)\n",
        "\n",
        "    layers = []\n",
        "    layers.append(FullyConnected(784, 28))\n",
        "    layers.append(Tanh())\n",
        "    for i in range(num_of_hidden):\n",
        "      layers.append(FullyConnected(28, 28))\n",
        "      layers.append(Tanh())\n",
        "    layers.append(FullyConnected(28, 10))\n",
        "    layers.append(Tanh())\n",
        "    net = Network(layers, learning_rate)\n",
        "    \n",
        "    print(\"Niewytrenowana sieć\")\n",
        "    print(\"Wartości prawdziwe:\")\n",
        "    print(Y_test[0:10])\n",
        "    print(\"Odpowiedź sieci:\")\n",
        "    print((np.argmax(net(X_test[0:10]), axis=2)).T)\n",
        "    print(\"Trenowanie sieci\")\n",
        "    net.fit(X_train[0:1000], Y_train[0:1000], epochs, learning_rate)\n",
        "    print(\"Wytrenowana sieć\")\n",
        "    predictions = net(X_test[0:10])\n",
        "    predictions = np.argmax(predictions, axis=2)\n",
        "    print(predictions.T)\n",
        "\n",
        "    \n",
        "\n",
        "    fig, axes = plt.subplots(ncols=10, sharex=False,\n",
        "                         sharey=True, figsize=(20, 4))\n",
        "    for i in range(10):\n",
        "        axes[i].set_title(predictions[i])\n",
        "        axes[i].imshow(X_test[i].reshape(28, 28), cmap='gray')\n",
        "        axes[i].get_xaxis().set_visible(False)\n",
        "        axes[i].get_yaxis().set_visible(False)\n",
        "    plt.show()\n"
      ],
      "metadata": {
        "id": "HLBgtphOAx_L"
      },
      "execution_count": 171,
      "outputs": []
    },
    {
      "cell_type": "markdown",
      "source": [
        "** Brak warstw ukrytych **"
      ],
      "metadata": {
        "id": "v5_ca6XuXV7O"
      }
    },
    {
      "cell_type": "code",
      "source": [
        "main(0, 20, 0.01)"
      ],
      "metadata": {
        "colab": {
          "base_uri": "https://localhost:8080/",
          "height": 787
        },
        "id": "4747Cbe5RoLe",
        "outputId": "952e101f-767d-4592-c006-7d20c10fee9d"
      },
      "execution_count": 172,
      "outputs": [
        {
          "output_type": "stream",
          "name": "stdout",
          "text": [
            "Niewytrenowana sieć\n",
            "Wartości prawdziwe:\n",
            "[[0. 0. 0. 0. 0. 0. 0. 1. 0. 0.]\n",
            " [0. 0. 1. 0. 0. 0. 0. 0. 0. 0.]\n",
            " [0. 1. 0. 0. 0. 0. 0. 0. 0. 0.]\n",
            " [1. 0. 0. 0. 0. 0. 0. 0. 0. 0.]\n",
            " [0. 0. 0. 0. 1. 0. 0. 0. 0. 0.]\n",
            " [0. 1. 0. 0. 0. 0. 0. 0. 0. 0.]\n",
            " [0. 0. 0. 0. 1. 0. 0. 0. 0. 0.]\n",
            " [0. 0. 0. 0. 0. 0. 0. 0. 0. 1.]\n",
            " [0. 0. 0. 0. 0. 1. 0. 0. 0. 0.]\n",
            " [0. 0. 0. 0. 0. 0. 0. 0. 0. 1.]]\n",
            "Odpowiedź sieci:\n",
            "[[7 7 7 7 6 7 5 7 5 0]]\n",
            "Trenowanie sieci\n",
            "epoch 1/20   error=0.365442\n",
            "epoch 2/20   error=0.229780\n",
            "epoch 3/20   error=0.154422\n",
            "epoch 4/20   error=0.115234\n",
            "epoch 5/20   error=0.095639\n",
            "epoch 6/20   error=0.085029\n",
            "epoch 7/20   error=0.078689\n",
            "epoch 8/20   error=0.074572\n",
            "epoch 9/20   error=0.071692\n",
            "epoch 10/20   error=0.069538\n",
            "epoch 11/20   error=0.067828\n",
            "epoch 12/20   error=0.066403\n",
            "epoch 13/20   error=0.065171\n",
            "epoch 14/20   error=0.064076\n",
            "epoch 15/20   error=0.063082\n",
            "epoch 16/20   error=0.062167\n",
            "epoch 17/20   error=0.061313\n",
            "epoch 18/20   error=0.060509\n",
            "epoch 19/20   error=0.059749\n",
            "epoch 20/20   error=0.059026\n",
            "Wytrenowana sieć\n",
            "[[7 0 1 0 2 1 9 4 1 4]]\n"
          ]
        },
        {
          "output_type": "display_data",
          "data": {
            "text/plain": [
              "<Figure size 1440x288 with 10 Axes>"
            ],
            "image/png": "[encoded data removed]"
          },
          "metadata": {
            "needs_background": "light"
          }
        }
      ]
    },
    {
      "cell_type": "code",
      "source": [
        "main(0, 20, 0.1)"
      ],
      "metadata": {
        "colab": {
          "base_uri": "https://localhost:8080/",
          "height": 787
        },
        "id": "NEWOwqQ52Ogu",
        "outputId": "e666fa7f-e1e5-4385-de11-b289161a7237"
      },
      "execution_count": 173,
      "outputs": [
        {
          "output_type": "stream",
          "name": "stdout",
          "text": [
            "Niewytrenowana sieć\n",
            "Wartości prawdziwe:\n",
            "[[0. 0. 0. 0. 0. 0. 0. 1. 0. 0.]\n",
            " [0. 0. 1. 0. 0. 0. 0. 0. 0. 0.]\n",
            " [0. 1. 0. 0. 0. 0. 0. 0. 0. 0.]\n",
            " [1. 0. 0. 0. 0. 0. 0. 0. 0. 0.]\n",
            " [0. 0. 0. 0. 1. 0. 0. 0. 0. 0.]\n",
            " [0. 1. 0. 0. 0. 0. 0. 0. 0. 0.]\n",
            " [0. 0. 0. 0. 1. 0. 0. 0. 0. 0.]\n",
            " [0. 0. 0. 0. 0. 0. 0. 0. 0. 1.]\n",
            " [0. 0. 0. 0. 0. 1. 0. 0. 0. 0.]\n",
            " [0. 0. 0. 0. 0. 0. 0. 0. 0. 1.]]\n",
            "Odpowiedź sieci:\n",
            "[[3 5 5 9 6 5 3 9 3 5]]\n",
            "Trenowanie sieci\n",
            "epoch 1/20   error=0.166901\n",
            "epoch 2/20   error=0.077823\n",
            "epoch 3/20   error=0.067764\n",
            "epoch 4/20   error=0.061919\n",
            "epoch 5/20   error=0.057396\n",
            "epoch 6/20   error=0.053646\n",
            "epoch 7/20   error=0.050353\n",
            "epoch 8/20   error=0.047630\n",
            "epoch 9/20   error=0.045356\n",
            "epoch 10/20   error=0.043287\n",
            "epoch 11/20   error=0.041352\n",
            "epoch 12/20   error=0.039587\n",
            "epoch 13/20   error=0.037976\n",
            "epoch 14/20   error=0.036560\n",
            "epoch 15/20   error=0.035317\n",
            "epoch 16/20   error=0.034209\n",
            "epoch 17/20   error=0.033202\n",
            "epoch 18/20   error=0.032264\n",
            "epoch 19/20   error=0.031388\n",
            "epoch 20/20   error=0.030571\n",
            "Wytrenowana sieć\n",
            "[[7 0 1 0 4 1 7 5 6 7]]\n"
          ]
        },
        {
          "output_type": "display_data",
          "data": {
            "text/plain": [
              "<Figure size 1440x288 with 10 Axes>"
            ],
            "image/png": "[encoded data removed]"
          },
          "metadata": {
            "needs_background": "light"
          }
        }
      ]
    },
    {
      "cell_type": "code",
      "source": [
        "main(0, 20, 0.25)"
      ],
      "metadata": {
        "colab": {
          "base_uri": "https://localhost:8080/",
          "height": 787
        },
        "id": "LRDLGCxg2YuE",
        "outputId": "5a0338c9-c8f9-46f7-81a0-8f1429ede39f"
      },
      "execution_count": 174,
      "outputs": [
        {
          "output_type": "stream",
          "name": "stdout",
          "text": [
            "Niewytrenowana sieć\n",
            "Wartości prawdziwe:\n",
            "[[0. 0. 0. 0. 0. 0. 0. 1. 0. 0.]\n",
            " [0. 0. 1. 0. 0. 0. 0. 0. 0. 0.]\n",
            " [0. 1. 0. 0. 0. 0. 0. 0. 0. 0.]\n",
            " [1. 0. 0. 0. 0. 0. 0. 0. 0. 0.]\n",
            " [0. 0. 0. 0. 1. 0. 0. 0. 0. 0.]\n",
            " [0. 1. 0. 0. 0. 0. 0. 0. 0. 0.]\n",
            " [0. 0. 0. 0. 1. 0. 0. 0. 0. 0.]\n",
            " [0. 0. 0. 0. 0. 0. 0. 0. 0. 1.]\n",
            " [0. 0. 0. 0. 0. 1. 0. 0. 0. 0.]\n",
            " [0. 0. 0. 0. 0. 0. 0. 0. 0. 1.]]\n",
            "Odpowiedź sieci:\n",
            "[[0 1 1 1 2 1 2 2 2 2]]\n",
            "Trenowanie sieci\n",
            "epoch 1/20   error=0.166634\n",
            "epoch 2/20   error=0.089650\n",
            "epoch 3/20   error=0.072076\n",
            "epoch 4/20   error=0.062139\n",
            "epoch 5/20   error=0.055315\n",
            "epoch 6/20   error=0.049917\n",
            "epoch 7/20   error=0.045305\n",
            "epoch 8/20   error=0.041212\n",
            "epoch 9/20   error=0.037869\n",
            "epoch 10/20   error=0.034842\n",
            "epoch 11/20   error=0.031975\n",
            "epoch 12/20   error=0.029476\n",
            "epoch 13/20   error=0.027638\n",
            "epoch 14/20   error=0.026027\n",
            "epoch 15/20   error=0.024504\n",
            "epoch 16/20   error=0.023138\n",
            "epoch 17/20   error=0.022063\n",
            "epoch 18/20   error=0.021185\n",
            "epoch 19/20   error=0.020443\n",
            "epoch 20/20   error=0.019867\n",
            "Wytrenowana sieć\n",
            "[[7 6 1 5 4 1 4 7 5 7]]\n"
          ]
        },
        {
          "output_type": "display_data",
          "data": {
            "text/plain": [
              "<Figure size 1440x288 with 10 Axes>"
            ],
            "image/png": "[encoded data removed]"
          },
          "metadata": {
            "needs_background": "light"
          }
        }
      ]
    },
    {
      "cell_type": "code",
      "source": [
        "main(0, 20, 0.5)"
      ],
      "metadata": {
        "colab": {
          "base_uri": "https://localhost:8080/",
          "height": 787
        },
        "id": "v5mGxCR0R8fc",
        "outputId": "892a828e-2c03-4a18-e0d6-913f6c0d8f8d"
      },
      "execution_count": 175,
      "outputs": [
        {
          "output_type": "stream",
          "name": "stdout",
          "text": [
            "Niewytrenowana sieć\n",
            "Wartości prawdziwe:\n",
            "[[0. 0. 0. 0. 0. 0. 0. 1. 0. 0.]\n",
            " [0. 0. 1. 0. 0. 0. 0. 0. 0. 0.]\n",
            " [0. 1. 0. 0. 0. 0. 0. 0. 0. 0.]\n",
            " [1. 0. 0. 0. 0. 0. 0. 0. 0. 0.]\n",
            " [0. 0. 0. 0. 1. 0. 0. 0. 0. 0.]\n",
            " [0. 1. 0. 0. 0. 0. 0. 0. 0. 0.]\n",
            " [0. 0. 0. 0. 1. 0. 0. 0. 0. 0.]\n",
            " [0. 0. 0. 0. 0. 0. 0. 0. 0. 1.]\n",
            " [0. 0. 0. 0. 0. 1. 0. 0. 0. 0.]\n",
            " [0. 0. 0. 0. 0. 0. 0. 0. 0. 1.]]\n",
            "Odpowiedź sieci:\n",
            "[[6 6 6 6 6 0 6 2 5 6]]\n",
            "Trenowanie sieci\n",
            "epoch 1/20   error=0.294557\n",
            "epoch 2/20   error=0.220361\n",
            "epoch 3/20   error=0.200740\n",
            "epoch 4/20   error=0.182994\n",
            "epoch 5/20   error=0.172454\n",
            "epoch 6/20   error=0.158570\n",
            "epoch 7/20   error=0.144938\n",
            "epoch 8/20   error=0.138255\n",
            "epoch 9/20   error=0.135507\n",
            "epoch 10/20   error=0.128156\n",
            "epoch 11/20   error=0.134074\n",
            "epoch 12/20   error=0.126447\n",
            "epoch 13/20   error=0.116249\n",
            "epoch 14/20   error=0.115636\n",
            "epoch 15/20   error=0.110989\n",
            "epoch 16/20   error=0.106088\n",
            "epoch 17/20   error=0.104209\n",
            "epoch 18/20   error=0.099145\n",
            "epoch 19/20   error=0.103159\n",
            "epoch 20/20   error=0.101766\n",
            "Wytrenowana sieć\n",
            "[[7 2 1 0 4 1 4 9 1 6]]\n"
          ]
        },
        {
          "output_type": "display_data",
          "data": {
            "text/plain": [
              "<Figure size 1440x288 with 10 Axes>"
            ],
            "image/png": "[encoded data removed]"
          },
          "metadata": {
            "needs_background": "light"
          }
        }
      ]
    },
    {
      "cell_type": "markdown",
      "source": [
        "Wartość learning_rate, dla jakiego uzyskano najmniejszą wartość błędu w kolejnych uruchomieniach programu:\n",
        "1: 0.25;\n",
        "2: 0.1;\n",
        "3: 0.25;\n",
        "4: 0.1;\n",
        "5: 0.25.\n",
        "Dla sieci bez warstwy ukrytej najmniejszą wartość błędu uzyskano zwykle dla wartości learning_rate = 0.25. dla wartości learning_rate=0.01 oraz learning_rate=0.5 sieć działa przeciętnie - współczynnik learning_rate wykorzystywany w metodzie gradientu prostego jest za mały dla tego modelu, zaś dla 0.5 za duży."
      ],
      "metadata": {
        "id": "i6iDLYEl_xTn"
      }
    },
    {
      "cell_type": "markdown",
      "source": [
        "**Jedna warstwa ukryta**"
      ],
      "metadata": {
        "id": "oyykUYS9Xe-f"
      }
    },
    {
      "cell_type": "code",
      "source": [
        "main(1, 20, 0.01)"
      ],
      "metadata": {
        "colab": {
          "base_uri": "https://localhost:8080/",
          "height": 787
        },
        "id": "sN6GSLXm2qRG",
        "outputId": "673fe30c-4a53-404d-ebe0-46243f1120f9"
      },
      "execution_count": 176,
      "outputs": [
        {
          "output_type": "stream",
          "name": "stdout",
          "text": [
            "Niewytrenowana sieć\n",
            "Wartości prawdziwe:\n",
            "[[0. 0. 0. 0. 0. 0. 0. 1. 0. 0.]\n",
            " [0. 0. 1. 0. 0. 0. 0. 0. 0. 0.]\n",
            " [0. 1. 0. 0. 0. 0. 0. 0. 0. 0.]\n",
            " [1. 0. 0. 0. 0. 0. 0. 0. 0. 0.]\n",
            " [0. 0. 0. 0. 1. 0. 0. 0. 0. 0.]\n",
            " [0. 1. 0. 0. 0. 0. 0. 0. 0. 0.]\n",
            " [0. 0. 0. 0. 1. 0. 0. 0. 0. 0.]\n",
            " [0. 0. 0. 0. 0. 0. 0. 0. 0. 1.]\n",
            " [0. 0. 0. 0. 0. 1. 0. 0. 0. 0.]\n",
            " [0. 0. 0. 0. 0. 0. 0. 0. 0. 1.]]\n",
            "Odpowiedź sieci:\n",
            "[[9 4 2 9 6 9 2 4 8 4]]\n",
            "Trenowanie sieci\n",
            "epoch 1/20   error=0.264308\n",
            "epoch 2/20   error=0.136427\n",
            "epoch 3/20   error=0.103049\n",
            "epoch 4/20   error=0.090487\n",
            "epoch 5/20   error=0.083824\n",
            "epoch 6/20   error=0.079497\n",
            "epoch 7/20   error=0.076338\n",
            "epoch 8/20   error=0.073852\n",
            "epoch 9/20   error=0.071794\n",
            "epoch 10/20   error=0.070028\n",
            "epoch 11/20   error=0.068472\n",
            "epoch 12/20   error=0.067076\n",
            "epoch 13/20   error=0.065803\n",
            "epoch 14/20   error=0.064628\n",
            "epoch 15/20   error=0.063534\n",
            "epoch 16/20   error=0.062506\n",
            "epoch 17/20   error=0.061532\n",
            "epoch 18/20   error=0.060604\n",
            "epoch 19/20   error=0.059715\n",
            "epoch 20/20   error=0.058860\n",
            "Wytrenowana sieć\n",
            "[[7 3 1 0 4 1 4 4 6 7]]\n"
          ]
        },
        {
          "output_type": "display_data",
          "data": {
            "text/plain": [
              "<Figure size 1440x288 with 10 Axes>"
            ],
            "image/png": "[encoded data removed]"
          },
          "metadata": {
            "needs_background": "light"
          }
        }
      ]
    },
    {
      "cell_type": "code",
      "source": [
        "main(1, 20, 0.1)"
      ],
      "metadata": {
        "colab": {
          "base_uri": "https://localhost:8080/",
          "height": 787
        },
        "id": "jdwczMCJ28st",
        "outputId": "fc8af299-7245-4435-f516-f4d07568d7a0"
      },
      "execution_count": 177,
      "outputs": [
        {
          "output_type": "stream",
          "name": "stdout",
          "text": [
            "Niewytrenowana sieć\n",
            "Wartości prawdziwe:\n",
            "[[0. 0. 0. 0. 0. 0. 0. 1. 0. 0.]\n",
            " [0. 0. 1. 0. 0. 0. 0. 0. 0. 0.]\n",
            " [0. 1. 0. 0. 0. 0. 0. 0. 0. 0.]\n",
            " [1. 0. 0. 0. 0. 0. 0. 0. 0. 0.]\n",
            " [0. 0. 0. 0. 1. 0. 0. 0. 0. 0.]\n",
            " [0. 1. 0. 0. 0. 0. 0. 0. 0. 0.]\n",
            " [0. 0. 0. 0. 1. 0. 0. 0. 0. 0.]\n",
            " [0. 0. 0. 0. 0. 0. 0. 0. 0. 1.]\n",
            " [0. 0. 0. 0. 0. 1. 0. 0. 0. 0.]\n",
            " [0. 0. 0. 0. 0. 0. 0. 0. 0. 1.]]\n",
            "Odpowiedź sieci:\n",
            "[[7 7 1 9 4 2 7 6 2 7]]\n",
            "Trenowanie sieci\n",
            "epoch 1/20   error=0.131630\n",
            "epoch 2/20   error=0.074698\n",
            "epoch 3/20   error=0.062360\n",
            "epoch 4/20   error=0.054257\n",
            "epoch 5/20   error=0.048002\n",
            "epoch 6/20   error=0.043075\n",
            "epoch 7/20   error=0.039010\n",
            "epoch 8/20   error=0.035519\n",
            "epoch 9/20   error=0.032558\n",
            "epoch 10/20   error=0.030092\n",
            "epoch 11/20   error=0.028003\n",
            "epoch 12/20   error=0.026159\n",
            "epoch 13/20   error=0.024503\n",
            "epoch 14/20   error=0.023004\n",
            "epoch 15/20   error=0.021639\n",
            "epoch 16/20   error=0.020380\n",
            "epoch 17/20   error=0.019198\n",
            "epoch 18/20   error=0.018095\n",
            "epoch 19/20   error=0.017096\n",
            "epoch 20/20   error=0.016216\n",
            "Wytrenowana sieć\n",
            "[[7 6 1 0 4 1 4 8 4 7]]\n"
          ]
        },
        {
          "output_type": "display_data",
          "data": {
            "text/plain": [
              "<Figure size 1440x288 with 10 Axes>"
            ],
            "image/png": "[encoded data removed]"
          },
          "metadata": {
            "needs_background": "light"
          }
        }
      ]
    },
    {
      "cell_type": "code",
      "source": [
        "main(1, 20, 0.25)"
      ],
      "metadata": {
        "colab": {
          "base_uri": "https://localhost:8080/",
          "height": 787
        },
        "id": "yzFv2cyt3Kt4",
        "outputId": "3dc15a55-fb49-414e-b892-01240c843a67"
      },
      "execution_count": 178,
      "outputs": [
        {
          "output_type": "stream",
          "name": "stdout",
          "text": [
            "Niewytrenowana sieć\n",
            "Wartości prawdziwe:\n",
            "[[0. 0. 0. 0. 0. 0. 0. 1. 0. 0.]\n",
            " [0. 0. 1. 0. 0. 0. 0. 0. 0. 0.]\n",
            " [0. 1. 0. 0. 0. 0. 0. 0. 0. 0.]\n",
            " [1. 0. 0. 0. 0. 0. 0. 0. 0. 0.]\n",
            " [0. 0. 0. 0. 1. 0. 0. 0. 0. 0.]\n",
            " [0. 1. 0. 0. 0. 0. 0. 0. 0. 0.]\n",
            " [0. 0. 0. 0. 1. 0. 0. 0. 0. 0.]\n",
            " [0. 0. 0. 0. 0. 0. 0. 0. 0. 1.]\n",
            " [0. 0. 0. 0. 0. 1. 0. 0. 0. 0.]\n",
            " [0. 0. 0. 0. 0. 0. 0. 0. 0. 1.]]\n",
            "Odpowiedź sieci:\n",
            "[[0 6 6 6 3 0 4 4 0 0]]\n",
            "Trenowanie sieci\n",
            "epoch 1/20   error=0.137907\n",
            "epoch 2/20   error=0.075195\n",
            "epoch 3/20   error=0.057570\n",
            "epoch 4/20   error=0.046393\n",
            "epoch 5/20   error=0.038530\n",
            "epoch 6/20   error=0.033100\n",
            "epoch 7/20   error=0.028583\n",
            "epoch 8/20   error=0.024808\n",
            "epoch 9/20   error=0.021788\n",
            "epoch 10/20   error=0.019452\n",
            "epoch 11/20   error=0.017264\n",
            "epoch 12/20   error=0.015457\n",
            "epoch 13/20   error=0.013925\n",
            "epoch 14/20   error=0.012700\n",
            "epoch 15/20   error=0.011683\n",
            "epoch 16/20   error=0.010823\n",
            "epoch 17/20   error=0.010058\n",
            "epoch 18/20   error=0.009361\n",
            "epoch 19/20   error=0.008749\n",
            "epoch 20/20   error=0.008041\n",
            "Wytrenowana sieć\n",
            "[[7 5 1 0 4 1 4 9 2 9]]\n"
          ]
        },
        {
          "output_type": "display_data",
          "data": {
            "text/plain": [
              "<Figure size 1440x288 with 10 Axes>"
            ],
            "image/png": "[encoded data removed]"
          },
          "metadata": {
            "needs_background": "light"
          }
        }
      ]
    },
    {
      "cell_type": "code",
      "source": [
        "main(1, 20, 0.5)"
      ],
      "metadata": {
        "colab": {
          "base_uri": "https://localhost:8080/",
          "height": 787
        },
        "id": "K98WehPdRmr-",
        "outputId": "775b7324-46f2-419e-e69f-40b11eb23ce9"
      },
      "execution_count": 179,
      "outputs": [
        {
          "output_type": "stream",
          "name": "stdout",
          "text": [
            "Niewytrenowana sieć\n",
            "Wartości prawdziwe:\n",
            "[[0. 0. 0. 0. 0. 0. 0. 1. 0. 0.]\n",
            " [0. 0. 1. 0. 0. 0. 0. 0. 0. 0.]\n",
            " [0. 1. 0. 0. 0. 0. 0. 0. 0. 0.]\n",
            " [1. 0. 0. 0. 0. 0. 0. 0. 0. 0.]\n",
            " [0. 0. 0. 0. 1. 0. 0. 0. 0. 0.]\n",
            " [0. 1. 0. 0. 0. 0. 0. 0. 0. 0.]\n",
            " [0. 0. 0. 0. 1. 0. 0. 0. 0. 0.]\n",
            " [0. 0. 0. 0. 0. 0. 0. 0. 0. 1.]\n",
            " [0. 0. 0. 0. 0. 1. 0. 0. 0. 0.]\n",
            " [0. 0. 0. 0. 0. 0. 0. 0. 0. 1.]]\n",
            "Odpowiedź sieci:\n",
            "[[4 6 6 3 4 6 9 0 6 0]]\n",
            "Trenowanie sieci\n",
            "epoch 1/20   error=0.176141\n",
            "epoch 2/20   error=0.083002\n",
            "epoch 3/20   error=0.063906\n",
            "epoch 4/20   error=0.053677\n",
            "epoch 5/20   error=0.046702\n",
            "epoch 6/20   error=0.040755\n",
            "epoch 7/20   error=0.036000\n",
            "epoch 8/20   error=0.032543\n",
            "epoch 9/20   error=0.029228\n",
            "epoch 10/20   error=0.027458\n",
            "epoch 11/20   error=0.025456\n",
            "epoch 12/20   error=0.023420\n",
            "epoch 13/20   error=0.022416\n",
            "epoch 14/20   error=0.021076\n",
            "epoch 15/20   error=0.019899\n",
            "epoch 16/20   error=0.018887\n",
            "epoch 17/20   error=0.017563\n",
            "epoch 18/20   error=0.016619\n",
            "epoch 19/20   error=0.016368\n",
            "epoch 20/20   error=0.015172\n",
            "Wytrenowana sieć\n",
            "[[7 6 1 0 4 1 4 9 6 9]]\n"
          ]
        },
        {
          "output_type": "display_data",
          "data": {
            "text/plain": [
              "<Figure size 1440x288 with 10 Axes>"
            ],
            "image/png": "[encoded data removed]"
          },
          "metadata": {
            "needs_background": "light"
          }
        }
      ]
    },
    {
      "cell_type": "markdown",
      "source": [
        "Wartość learning_rate, dla jakiego uzyskano najmniejszą wartość błędu w kolejnych uruchomieniach programu:\n",
        "1: 0.25;\n",
        "2: 0.25;\n",
        "3: 0.5;\n",
        "4: 0.25;\n",
        "5: 0.25.\n",
        "Dla sieci o jednej warstwie ukrytej najmniejszy błąd osiągamy najczęściej dla wartości współczynnika learning_rate = 0.25 "
      ],
      "metadata": {
        "id": "xPYvh4qJ_PzH"
      }
    },
    {
      "cell_type": "markdown",
      "source": [
        "**Dwie warstwy ukryte**"
      ],
      "metadata": {
        "id": "z6TzU359R2vQ"
      }
    },
    {
      "cell_type": "code",
      "source": [
        "main(2, 20, 0.01)"
      ],
      "metadata": {
        "colab": {
          "base_uri": "https://localhost:8080/",
          "height": 787
        },
        "id": "s1Rp9eat498O",
        "outputId": "15b42e01-ccf0-4364-fca2-65f51e28f137"
      },
      "execution_count": 180,
      "outputs": [
        {
          "output_type": "stream",
          "name": "stdout",
          "text": [
            "Niewytrenowana sieć\n",
            "Wartości prawdziwe:\n",
            "[[0. 0. 0. 0. 0. 0. 0. 1. 0. 0.]\n",
            " [0. 0. 1. 0. 0. 0. 0. 0. 0. 0.]\n",
            " [0. 1. 0. 0. 0. 0. 0. 0. 0. 0.]\n",
            " [1. 0. 0. 0. 0. 0. 0. 0. 0. 0.]\n",
            " [0. 0. 0. 0. 1. 0. 0. 0. 0. 0.]\n",
            " [0. 1. 0. 0. 0. 0. 0. 0. 0. 0.]\n",
            " [0. 0. 0. 0. 1. 0. 0. 0. 0. 0.]\n",
            " [0. 0. 0. 0. 0. 0. 0. 0. 0. 1.]\n",
            " [0. 0. 0. 0. 0. 1. 0. 0. 0. 0.]\n",
            " [0. 0. 0. 0. 0. 0. 0. 0. 0. 1.]]\n",
            "Odpowiedź sieci:\n",
            "[[2 2 1 9 3 6 3 6 2 2]]\n",
            "Trenowanie sieci\n",
            "epoch 1/20   error=0.209462\n",
            "epoch 2/20   error=0.110460\n",
            "epoch 3/20   error=0.090115\n",
            "epoch 4/20   error=0.081230\n",
            "epoch 5/20   error=0.075850\n",
            "epoch 6/20   error=0.072024\n",
            "epoch 7/20   error=0.069057\n",
            "epoch 8/20   error=0.066625\n",
            "epoch 9/20   error=0.064554\n",
            "epoch 10/20   error=0.062742\n",
            "epoch 11/20   error=0.061122\n",
            "epoch 12/20   error=0.059651\n",
            "epoch 13/20   error=0.058297\n",
            "epoch 14/20   error=0.057040\n",
            "epoch 15/20   error=0.055862\n",
            "epoch 16/20   error=0.054751\n",
            "epoch 17/20   error=0.053701\n",
            "epoch 18/20   error=0.052703\n",
            "epoch 19/20   error=0.051752\n",
            "epoch 20/20   error=0.050844\n",
            "Wytrenowana sieć\n",
            "[[7 2 1 0 4 1 5 6 5 9]]\n"
          ]
        },
        {
          "output_type": "display_data",
          "data": {
            "text/plain": [
              "<Figure size 1440x288 with 10 Axes>"
            ],
            "image/png": "[encoded data removed]"
          },
          "metadata": {
            "needs_background": "light"
          }
        }
      ]
    },
    {
      "cell_type": "code",
      "source": [
        "main(2, 20, 0.1)"
      ],
      "metadata": {
        "colab": {
          "base_uri": "https://localhost:8080/",
          "height": 787
        },
        "id": "HzTuFZy-5D8i",
        "outputId": "4a5a9be9-55db-4b98-c0b9-d7a700bb820f"
      },
      "execution_count": 181,
      "outputs": [
        {
          "output_type": "stream",
          "name": "stdout",
          "text": [
            "Niewytrenowana sieć\n",
            "Wartości prawdziwe:\n",
            "[[0. 0. 0. 0. 0. 0. 0. 1. 0. 0.]\n",
            " [0. 0. 1. 0. 0. 0. 0. 0. 0. 0.]\n",
            " [0. 1. 0. 0. 0. 0. 0. 0. 0. 0.]\n",
            " [1. 0. 0. 0. 0. 0. 0. 0. 0. 0.]\n",
            " [0. 0. 0. 0. 1. 0. 0. 0. 0. 0.]\n",
            " [0. 1. 0. 0. 0. 0. 0. 0. 0. 0.]\n",
            " [0. 0. 0. 0. 1. 0. 0. 0. 0. 0.]\n",
            " [0. 0. 0. 0. 0. 0. 0. 0. 0. 1.]\n",
            " [0. 0. 0. 0. 0. 1. 0. 0. 0. 0.]\n",
            " [0. 0. 0. 0. 0. 0. 0. 0. 0. 1.]]\n",
            "Odpowiedź sieci:\n",
            "[[3 3 3 5 3 3 3 3 3 3]]\n",
            "Trenowanie sieci\n",
            "epoch 1/20   error=0.125605\n",
            "epoch 2/20   error=0.078474\n",
            "epoch 3/20   error=0.063532\n",
            "epoch 4/20   error=0.054066\n",
            "epoch 5/20   error=0.047044\n",
            "epoch 6/20   error=0.041421\n",
            "epoch 7/20   error=0.036889\n",
            "epoch 8/20   error=0.033140\n",
            "epoch 9/20   error=0.029890\n",
            "epoch 10/20   error=0.027014\n",
            "epoch 11/20   error=0.024482\n",
            "epoch 12/20   error=0.022292\n",
            "epoch 13/20   error=0.020363\n",
            "epoch 14/20   error=0.018628\n",
            "epoch 15/20   error=0.017081\n",
            "epoch 16/20   error=0.015706\n",
            "epoch 17/20   error=0.014495\n",
            "epoch 18/20   error=0.013442\n",
            "epoch 19/20   error=0.012521\n",
            "epoch 20/20   error=0.011705\n",
            "Wytrenowana sieć\n",
            "[[7 2 1 0 4 1 4 4 6 9]]\n"
          ]
        },
        {
          "output_type": "display_data",
          "data": {
            "text/plain": [
              "<Figure size 1440x288 with 10 Axes>"
            ],
            "image/png": "[encoded data removed]"
          },
          "metadata": {
            "needs_background": "light"
          }
        }
      ]
    },
    {
      "cell_type": "code",
      "source": [
        "main(2, 20, 0.25)"
      ],
      "metadata": {
        "colab": {
          "base_uri": "https://localhost:8080/",
          "height": 787
        },
        "id": "y8Ea4MfW5FJX",
        "outputId": "2092cecc-01de-4358-ec6b-b1476d627537"
      },
      "execution_count": 182,
      "outputs": [
        {
          "output_type": "stream",
          "name": "stdout",
          "text": [
            "Niewytrenowana sieć\n",
            "Wartości prawdziwe:\n",
            "[[0. 0. 0. 0. 0. 0. 0. 1. 0. 0.]\n",
            " [0. 0. 1. 0. 0. 0. 0. 0. 0. 0.]\n",
            " [0. 1. 0. 0. 0. 0. 0. 0. 0. 0.]\n",
            " [1. 0. 0. 0. 0. 0. 0. 0. 0. 0.]\n",
            " [0. 0. 0. 0. 1. 0. 0. 0. 0. 0.]\n",
            " [0. 1. 0. 0. 0. 0. 0. 0. 0. 0.]\n",
            " [0. 0. 0. 0. 1. 0. 0. 0. 0. 0.]\n",
            " [0. 0. 0. 0. 0. 0. 0. 0. 0. 1.]\n",
            " [0. 0. 0. 0. 0. 1. 0. 0. 0. 0.]\n",
            " [0. 0. 0. 0. 0. 0. 0. 0. 0. 1.]]\n",
            "Odpowiedź sieci:\n",
            "[[6 2 4 6 6 4 9 4 9 3]]\n",
            "Trenowanie sieci\n",
            "epoch 1/20   error=0.138854\n",
            "epoch 2/20   error=0.077091\n",
            "epoch 3/20   error=0.056517\n",
            "epoch 4/20   error=0.044902\n",
            "epoch 5/20   error=0.037324\n",
            "epoch 6/20   error=0.031892\n",
            "epoch 7/20   error=0.027299\n",
            "epoch 8/20   error=0.023320\n",
            "epoch 9/20   error=0.020189\n",
            "epoch 10/20   error=0.017515\n",
            "epoch 11/20   error=0.015447\n",
            "epoch 12/20   error=0.013594\n",
            "epoch 13/20   error=0.012093\n",
            "epoch 14/20   error=0.010747\n",
            "epoch 15/20   error=0.009931\n",
            "epoch 16/20   error=0.009236\n",
            "epoch 17/20   error=0.008576\n",
            "epoch 18/20   error=0.007735\n",
            "epoch 19/20   error=0.006742\n",
            "epoch 20/20   error=0.005989\n",
            "Wytrenowana sieć\n",
            "[[7 2 1 0 4 1 4 9 2 9]]\n"
          ]
        },
        {
          "output_type": "display_data",
          "data": {
            "text/plain": [
              "<Figure size 1440x288 with 10 Axes>"
            ],
            "image/png": "[encoded data removed]"
          },
          "metadata": {
            "needs_background": "light"
          }
        }
      ]
    },
    {
      "cell_type": "code",
      "source": [
        "main(2, 20, 0.5)"
      ],
      "metadata": {
        "colab": {
          "base_uri": "https://localhost:8080/",
          "height": 787
        },
        "id": "525ttcsMTO43",
        "outputId": "d92e538c-a8c8-4215-be88-7cfc3a1ff8b1"
      },
      "execution_count": 183,
      "outputs": [
        {
          "output_type": "stream",
          "name": "stdout",
          "text": [
            "Niewytrenowana sieć\n",
            "Wartości prawdziwe:\n",
            "[[0. 0. 0. 0. 0. 0. 0. 1. 0. 0.]\n",
            " [0. 0. 1. 0. 0. 0. 0. 0. 0. 0.]\n",
            " [0. 1. 0. 0. 0. 0. 0. 0. 0. 0.]\n",
            " [1. 0. 0. 0. 0. 0. 0. 0. 0. 0.]\n",
            " [0. 0. 0. 0. 1. 0. 0. 0. 0. 0.]\n",
            " [0. 1. 0. 0. 0. 0. 0. 0. 0. 0.]\n",
            " [0. 0. 0. 0. 1. 0. 0. 0. 0. 0.]\n",
            " [0. 0. 0. 0. 0. 0. 0. 0. 0. 1.]\n",
            " [0. 0. 0. 0. 0. 1. 0. 0. 0. 0.]\n",
            " [0. 0. 0. 0. 0. 0. 0. 0. 0. 1.]]\n",
            "Odpowiedź sieci:\n",
            "[[8 3 8 3 6 4 8 4 6 8]]\n",
            "Trenowanie sieci\n",
            "epoch 1/20   error=0.134907\n",
            "epoch 2/20   error=0.060387\n",
            "epoch 3/20   error=0.045958\n",
            "epoch 4/20   error=0.036063\n",
            "epoch 5/20   error=0.029541\n",
            "epoch 6/20   error=0.024417\n",
            "epoch 7/20   error=0.020252\n",
            "epoch 8/20   error=0.017052\n",
            "epoch 9/20   error=0.014674\n",
            "epoch 10/20   error=0.013003\n",
            "epoch 11/20   error=0.011765\n",
            "epoch 12/20   error=0.010504\n",
            "epoch 13/20   error=0.009294\n",
            "epoch 14/20   error=0.008296\n",
            "epoch 15/20   error=0.007647\n",
            "epoch 16/20   error=0.007034\n",
            "epoch 17/20   error=0.007528\n",
            "epoch 18/20   error=0.006549\n",
            "epoch 19/20   error=0.005540\n",
            "epoch 20/20   error=0.004782\n",
            "Wytrenowana sieć\n",
            "[[7 3 1 0 9 1 4 9 6 9]]\n"
          ]
        },
        {
          "output_type": "display_data",
          "data": {
            "text/plain": [
              "<Figure size 1440x288 with 10 Axes>"
            ],
            "image/png": "[encoded data removed]"
          },
          "metadata": {
            "needs_background": "light"
          }
        }
      ]
    },
    {
      "cell_type": "markdown",
      "source": [
        "Wartość learning_rate, dla jakiego uzyskano najmniejszą wartość błędu w kolejnych uruchomieniach programu:\n",
        "1: 0.5;\n",
        "2: 0.5;\n",
        "3: 0.5;\n",
        "4: 0.5;\n",
        "5: 0.5.\n",
        "Dla sieci o dwóch warstwach ukrytych we wszystkich pięciu doświadczeniach najlepszy wynik uzyskano dla współczynnika learning_rate = 0.5"
      ],
      "metadata": {
        "id": "vUH6kLIc_ifc"
      }
    },
    {
      "cell_type": "markdown",
      "source": [
        "**Trzy warstwy ukryte**"
      ],
      "metadata": {
        "id": "t0e4fVjOX4lR"
      }
    },
    {
      "cell_type": "code",
      "source": [
        "main(3, 20, 0.01)"
      ],
      "metadata": {
        "colab": {
          "base_uri": "https://localhost:8080/",
          "height": 787
        },
        "id": "f5Q36nK9QHf8",
        "outputId": "24f5c6e8-7642-4c15-e99f-d0b1806e65a8"
      },
      "execution_count": 184,
      "outputs": [
        {
          "output_type": "stream",
          "name": "stdout",
          "text": [
            "Niewytrenowana sieć\n",
            "Wartości prawdziwe:\n",
            "[[0. 0. 0. 0. 0. 0. 0. 1. 0. 0.]\n",
            " [0. 0. 1. 0. 0. 0. 0. 0. 0. 0.]\n",
            " [0. 1. 0. 0. 0. 0. 0. 0. 0. 0.]\n",
            " [1. 0. 0. 0. 0. 0. 0. 0. 0. 0.]\n",
            " [0. 0. 0. 0. 1. 0. 0. 0. 0. 0.]\n",
            " [0. 1. 0. 0. 0. 0. 0. 0. 0. 0.]\n",
            " [0. 0. 0. 0. 1. 0. 0. 0. 0. 0.]\n",
            " [0. 0. 0. 0. 0. 0. 0. 0. 0. 1.]\n",
            " [0. 0. 0. 0. 0. 1. 0. 0. 0. 0.]\n",
            " [0. 0. 0. 0. 0. 0. 0. 0. 0. 1.]]\n",
            "Odpowiedź sieci:\n",
            "[[9 2 1 2 0 0 9 2 2 9]]\n",
            "Trenowanie sieci\n",
            "epoch 1/20   error=0.199555\n",
            "epoch 2/20   error=0.099067\n",
            "epoch 3/20   error=0.086976\n",
            "epoch 4/20   error=0.081799\n",
            "epoch 5/20   error=0.078247\n",
            "epoch 6/20   error=0.075403\n",
            "epoch 7/20   error=0.072972\n",
            "epoch 8/20   error=0.070813\n",
            "epoch 9/20   error=0.068854\n",
            "epoch 10/20   error=0.067058\n",
            "epoch 11/20   error=0.065405\n",
            "epoch 12/20   error=0.063880\n",
            "epoch 13/20   error=0.062467\n",
            "epoch 14/20   error=0.061148\n",
            "epoch 15/20   error=0.059908\n",
            "epoch 16/20   error=0.058733\n",
            "epoch 17/20   error=0.057614\n",
            "epoch 18/20   error=0.056543\n",
            "epoch 19/20   error=0.055515\n",
            "epoch 20/20   error=0.054527\n",
            "Wytrenowana sieć\n",
            "[[7 7 1 7 4 1 4 6 6 7]]\n"
          ]
        },
        {
          "output_type": "display_data",
          "data": {
            "text/plain": [
              "<Figure size 1440x288 with 10 Axes>"
            ],
            "image/png": "[encoded data removed]"
          },
          "metadata": {
            "needs_background": "light"
          }
        }
      ]
    },
    {
      "cell_type": "code",
      "source": [
        "main(3, 20, 0.1)"
      ],
      "metadata": {
        "colab": {
          "base_uri": "https://localhost:8080/",
          "height": 787
        },
        "id": "edTdmFcfQLtc",
        "outputId": "d261373e-8664-4dea-8b62-2271f95f8641"
      },
      "execution_count": 185,
      "outputs": [
        {
          "output_type": "stream",
          "name": "stdout",
          "text": [
            "Niewytrenowana sieć\n",
            "Wartości prawdziwe:\n",
            "[[0. 0. 0. 0. 0. 0. 0. 1. 0. 0.]\n",
            " [0. 0. 1. 0. 0. 0. 0. 0. 0. 0.]\n",
            " [0. 1. 0. 0. 0. 0. 0. 0. 0. 0.]\n",
            " [1. 0. 0. 0. 0. 0. 0. 0. 0. 0.]\n",
            " [0. 0. 0. 0. 1. 0. 0. 0. 0. 0.]\n",
            " [0. 1. 0. 0. 0. 0. 0. 0. 0. 0.]\n",
            " [0. 0. 0. 0. 1. 0. 0. 0. 0. 0.]\n",
            " [0. 0. 0. 0. 0. 0. 0. 0. 0. 1.]\n",
            " [0. 0. 0. 0. 0. 1. 0. 0. 0. 0.]\n",
            " [0. 0. 0. 0. 0. 0. 0. 0. 0. 1.]]\n",
            "Odpowiedź sieci:\n",
            "[[7 2 5 1 7 5 5 1 3 1]]\n",
            "Trenowanie sieci\n",
            "epoch 1/20   error=0.115810\n",
            "epoch 2/20   error=0.079560\n",
            "epoch 3/20   error=0.066121\n",
            "epoch 4/20   error=0.056846\n",
            "epoch 5/20   error=0.049588\n",
            "epoch 6/20   error=0.043950\n",
            "epoch 7/20   error=0.039128\n",
            "epoch 8/20   error=0.034799\n",
            "epoch 9/20   error=0.030984\n",
            "epoch 10/20   error=0.027619\n",
            "epoch 11/20   error=0.024597\n",
            "epoch 12/20   error=0.021896\n",
            "epoch 13/20   error=0.019471\n",
            "epoch 14/20   error=0.017163\n",
            "epoch 15/20   error=0.015134\n",
            "epoch 16/20   error=0.013483\n",
            "epoch 17/20   error=0.012047\n",
            "epoch 18/20   error=0.010893\n",
            "epoch 19/20   error=0.009927\n",
            "epoch 20/20   error=0.009085\n",
            "Wytrenowana sieć\n",
            "[[7 0 1 0 9 1 4 4 4 9]]\n"
          ]
        },
        {
          "output_type": "display_data",
          "data": {
            "text/plain": [
              "<Figure size 1440x288 with 10 Axes>"
            ],
            "image/png": "[encoded data removed]"
          },
          "metadata": {
            "needs_background": "light"
          }
        }
      ]
    },
    {
      "cell_type": "code",
      "source": [
        "main(3, 20, 0.25)"
      ],
      "metadata": {
        "colab": {
          "base_uri": "https://localhost:8080/",
          "height": 787
        },
        "id": "FQ2j75_hQz4j",
        "outputId": "609c45ec-f1f9-45e5-87ee-f261ea5fe604"
      },
      "execution_count": 186,
      "outputs": [
        {
          "output_type": "stream",
          "name": "stdout",
          "text": [
            "Niewytrenowana sieć\n",
            "Wartości prawdziwe:\n",
            "[[0. 0. 0. 0. 0. 0. 0. 1. 0. 0.]\n",
            " [0. 0. 1. 0. 0. 0. 0. 0. 0. 0.]\n",
            " [0. 1. 0. 0. 0. 0. 0. 0. 0. 0.]\n",
            " [1. 0. 0. 0. 0. 0. 0. 0. 0. 0.]\n",
            " [0. 0. 0. 0. 1. 0. 0. 0. 0. 0.]\n",
            " [0. 1. 0. 0. 0. 0. 0. 0. 0. 0.]\n",
            " [0. 0. 0. 0. 1. 0. 0. 0. 0. 0.]\n",
            " [0. 0. 0. 0. 0. 0. 0. 0. 0. 1.]\n",
            " [0. 0. 0. 0. 0. 1. 0. 0. 0. 0.]\n",
            " [0. 0. 0. 0. 0. 0. 0. 0. 0. 1.]]\n",
            "Odpowiedź sieci:\n",
            "[[3 9 5 3 3 5 3 3 3 3]]\n",
            "Trenowanie sieci\n",
            "epoch 1/20   error=0.143909\n",
            "epoch 2/20   error=0.072042\n",
            "epoch 3/20   error=0.051974\n",
            "epoch 4/20   error=0.039490\n",
            "epoch 5/20   error=0.030040\n",
            "epoch 6/20   error=0.023548\n",
            "epoch 7/20   error=0.019506\n",
            "epoch 8/20   error=0.016300\n",
            "epoch 9/20   error=0.013873\n",
            "epoch 10/20   error=0.012024\n",
            "epoch 11/20   error=0.010489\n",
            "epoch 12/20   error=0.009300\n",
            "epoch 13/20   error=0.008147\n",
            "epoch 14/20   error=0.007424\n",
            "epoch 15/20   error=0.006579\n",
            "epoch 16/20   error=0.005996\n",
            "epoch 17/20   error=0.005361\n",
            "epoch 18/20   error=0.004896\n",
            "epoch 19/20   error=0.004202\n",
            "epoch 20/20   error=0.003812\n",
            "Wytrenowana sieć\n",
            "[[7 6 1 0 4 1 4 9 0 9]]\n"
          ]
        },
        {
          "output_type": "display_data",
          "data": {
            "text/plain": [
              "<Figure size 1440x288 with 10 Axes>"
            ],
            "image/png": "[encoded data removed]"
          },
          "metadata": {
            "needs_background": "light"
          }
        }
      ]
    },
    {
      "cell_type": "code",
      "source": [
        "main(3, 20, 0.5)"
      ],
      "metadata": {
        "colab": {
          "base_uri": "https://localhost:8080/",
          "height": 787
        },
        "id": "3gzpYjaBTfo0",
        "outputId": "f4c0188f-ec6a-45d4-e493-e283af833099"
      },
      "execution_count": 187,
      "outputs": [
        {
          "output_type": "stream",
          "name": "stdout",
          "text": [
            "Niewytrenowana sieć\n",
            "Wartości prawdziwe:\n",
            "[[0. 0. 0. 0. 0. 0. 0. 1. 0. 0.]\n",
            " [0. 0. 1. 0. 0. 0. 0. 0. 0. 0.]\n",
            " [0. 1. 0. 0. 0. 0. 0. 0. 0. 0.]\n",
            " [1. 0. 0. 0. 0. 0. 0. 0. 0. 0.]\n",
            " [0. 0. 0. 0. 1. 0. 0. 0. 0. 0.]\n",
            " [0. 1. 0. 0. 0. 0. 0. 0. 0. 0.]\n",
            " [0. 0. 0. 0. 1. 0. 0. 0. 0. 0.]\n",
            " [0. 0. 0. 0. 0. 0. 0. 0. 0. 1.]\n",
            " [0. 0. 0. 0. 0. 1. 0. 0. 0. 0.]\n",
            " [0. 0. 0. 0. 0. 0. 0. 0. 0. 1.]]\n",
            "Odpowiedź sieci:\n",
            "[[1 1 5 3 3 1 3 1 3 1]]\n",
            "Trenowanie sieci\n",
            "epoch 1/20   error=0.174351\n",
            "epoch 2/20   error=0.070184\n",
            "epoch 3/20   error=0.049100\n",
            "epoch 4/20   error=0.039642\n",
            "epoch 5/20   error=0.030450\n",
            "epoch 6/20   error=0.025540\n",
            "epoch 7/20   error=0.021182\n",
            "epoch 8/20   error=0.019520\n",
            "epoch 9/20   error=0.016194\n",
            "epoch 10/20   error=0.014600\n",
            "epoch 11/20   error=0.012532\n",
            "epoch 12/20   error=0.010690\n",
            "epoch 13/20   error=0.009413\n",
            "epoch 14/20   error=0.009885\n",
            "epoch 15/20   error=0.013196\n",
            "epoch 16/20   error=0.009929\n",
            "epoch 17/20   error=0.014230\n",
            "epoch 18/20   error=0.012143\n",
            "epoch 19/20   error=0.009077\n",
            "epoch 20/20   error=0.009622\n",
            "Wytrenowana sieć\n",
            "[[7 2 1 0 4 1 4 9 6 9]]\n"
          ]
        },
        {
          "output_type": "display_data",
          "data": {
            "text/plain": [
              "<Figure size 1440x288 with 10 Axes>"
            ],
            "image/png": "[encoded data removed]"
          },
          "metadata": {
            "needs_background": "light"
          }
        }
      ]
    },
    {
      "cell_type": "markdown",
      "source": [
        "Wartość learning_rate, dla jakiego uzyskano najmniejszą wartość błędu w kolejnych uruchomieniach programu:\n",
        "1: 0.5;\n",
        "2: 0.25;\n",
        "3: 0.25;\n",
        "4: 0.25;\n",
        "5: 0.25.\n",
        "Dla trzech warstw ukrytych najlepszy wynik zwykle uzyskiwano dla learning_rate=0.25."
      ],
      "metadata": {
        "id": "HYI9vL3SQ2z8"
      }
    },
    {
      "cell_type": "markdown",
      "source": [
        "# Wnioski\n",
        "\n",
        "Sieci neuronowe są dobrym klasyfikatorem. Stworzony przeze mnie model działa dobrze (niskie wartości błędów), ale nie rozpoznaje jednocześnie wszystkich dziesięciu cyfr z obrazków. Dla większej liczby warstw ukrytych uzyskiwałam mniejsze wartości błędu. Dla konkretnych modeli różne wartości współczynnika learning_rate były optymalne. "
      ],
      "metadata": {
        "collapsed": false,
        "id": "qokLsIWTOLrC"
      }
    }
  ],
  "metadata": {
    "kernelspec": {
      "display_name": "Python 3",
      "language": "python",
      "name": "python3"
    },
    "language_info": {
      "codemirror_mode": {
        "name": "ipython",
        "version": 2
      },
      "file_extension": ".py",
      "mimetype": "text/x-python",
      "name": "python",
      "nbconvert_exporter": "python",
      "pygments_lexer": "ipython2",
      "version": "2.7.6"
    },
    "colab": {
      "provenance": []
    }
  },
  "nbformat": 4,
  "nbformat_minor": 0
}